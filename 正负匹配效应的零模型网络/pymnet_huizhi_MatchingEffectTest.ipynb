{
 "cells": [
  {
   "cell_type": "code",
   "execution_count": 1,
   "metadata": {},
   "outputs": [],
   "source": [
    "from pymnet import *\n",
    "import numpy as np\n",
    "import random\n",
    "import multinetx as mx\n",
    "from ling_model import create_MultilayerGraph, write_data_toDat, matchEffect_0_model"
   ]
  },
  {
   "cell_type": "code",
   "execution_count": 2,
   "metadata": {},
   "outputs": [],
   "source": [
    "N = 8"
   ]
  },
  {
   "cell_type": "code",
   "execution_count": 3,
   "metadata": {},
   "outputs": [],
   "source": [
    "mg = create_MultilayerGraph(N, p_g1=0.3, p_g2=0.3, seed_g1=218, seed_g2=256, intra_layer_edges_weight=2, inter_layer_edges_weight=3)"
   ]
  },
  {
   "cell_type": "code",
   "execution_count": 4,
   "metadata": {},
   "outputs": [],
   "source": [
    "write_data_toDat('data7-1.dat', mg, N, weight=None)"
   ]
  },
  {
   "cell_type": "markdown",
   "metadata": {},
   "source": [
    "# 正匹配效应的零模型网络"
   ]
  },
  {
   "cell_type": "code",
   "execution_count": 5,
   "metadata": {},
   "outputs": [],
   "source": [
    "new_mg = matchEffect_0_model(mg, N, nswap=1, pattern='positive')"
   ]
  },
  {
   "cell_type": "code",
   "execution_count": 6,
   "metadata": {},
   "outputs": [],
   "source": [
    "write_data_toDat('data7-2.dat', mg, N, weight=None)"
   ]
  },
  {
   "cell_type": "code",
   "execution_count": 7,
   "metadata": {},
   "outputs": [],
   "source": [
    "nt1 = read_ucinet('data7-1.dat')\n",
    "fig = draw(nt1, \n",
    "            show=False,\n",
    "            layout=\"spring\",\n",
    "            layerColorRule={},\n",
    "            defaultLayerColor=\"#EFF1F1\",\n",
    "            edgeColorRule={}, \n",
    "            defaultEdgeColor='#808080',\n",
    "            layerLabelDict={0:'1', 1:'2'}, \n",
    "            layerPadding=0.1)\n",
    "fig.savefig('7-1.pdf')"
   ]
  },
  {
   "cell_type": "code",
   "execution_count": 8,
   "metadata": {},
   "outputs": [],
   "source": [
    "nt2 = read_ucinet('data7-2.dat')\n",
    "fig = draw(nt2, \n",
    "            show=False,\n",
    "            layout=\"spring\",\n",
    "            layerColorRule={},\n",
    "            defaultLayerColor=\"#EFF1F1\",\n",
    "            edgeColorRule={}, \n",
    "            defaultEdgeColor='#808080',\n",
    "            layerLabelDict={0:'1', 1:'2'}, \n",
    "            layerPadding=0.1)\n",
    "fig.savefig('7-2.pdf')"
   ]
  },
  {
   "cell_type": "markdown",
   "metadata": {},
   "source": [
    "# 负匹配效应的零模型网络"
   ]
  },
  {
   "cell_type": "code",
   "execution_count": 15,
   "metadata": {},
   "outputs": [],
   "source": [
    "mg_1 = create_MultilayerGraph(N, p_g1=0.3, p_g2=0.3, seed_g1=218, seed_g2=256, intra_layer_edges_weight=2, inter_layer_edges_weight=3)"
   ]
  },
  {
   "cell_type": "code",
   "execution_count": 16,
   "metadata": {},
   "outputs": [],
   "source": [
    "write_data_toDat('data7-3.dat', mg_1, N, weight=None)"
   ]
  },
  {
   "cell_type": "code",
   "execution_count": 17,
   "metadata": {},
   "outputs": [],
   "source": [
    "new_mg_1 = matchEffect_0_model(mg_1, N, nswap=1, pattern='negative')"
   ]
  },
  {
   "cell_type": "code",
   "execution_count": 18,
   "metadata": {},
   "outputs": [],
   "source": [
    "write_data_toDat('data7-4.dat', mg_1, N, weight=None)"
   ]
  },
  {
   "cell_type": "code",
   "execution_count": 19,
   "metadata": {},
   "outputs": [],
   "source": [
    "nt3 = read_ucinet('data7-3.dat')\n",
    "fig = draw(nt3, \n",
    "            show=False,\n",
    "            layout=\"spring\",\n",
    "            layerColorRule={},\n",
    "            defaultLayerColor=\"#EFF1F1\",\n",
    "            edgeColorRule={}, \n",
    "            defaultEdgeColor='#808080',\n",
    "            layerLabelDict={0:'1', 1:'2'}, \n",
    "            layerPadding=0.1)\n",
    "fig.savefig('7-3.pdf')"
   ]
  },
  {
   "cell_type": "code",
   "execution_count": 20,
   "metadata": {},
   "outputs": [],
   "source": [
    "nt4 = read_ucinet('data7-4.dat')\n",
    "fig = draw(nt4, \n",
    "            show=False,\n",
    "            layout=\"spring\",\n",
    "            layerColorRule={},\n",
    "            defaultLayerColor=\"#EFF1F1\",\n",
    "            edgeColorRule={}, \n",
    "            defaultEdgeColor='#808080',\n",
    "            layerLabelDict={0:'1', 1:'2'}, \n",
    "            layerPadding=0.1)\n",
    "fig.savefig('7-4.pdf')"
   ]
  },
  {
   "cell_type": "code",
   "execution_count": null,
   "metadata": {},
   "outputs": [],
   "source": []
  }
 ],
 "metadata": {
  "kernelspec": {
   "display_name": "Python [conda env:multinetx_env]",
   "language": "python",
   "name": "conda-env-multinetx_env-py"
  },
  "language_info": {
   "codemirror_mode": {
    "name": "ipython",
    "version": 3
   },
   "file_extension": ".py",
   "mimetype": "text/x-python",
   "name": "python",
   "nbconvert_exporter": "python",
   "pygments_lexer": "ipython3",
   "version": "3.8.5"
  }
 },
 "nbformat": 4,
 "nbformat_minor": 4
}
