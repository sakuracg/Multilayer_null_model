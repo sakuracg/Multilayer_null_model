{
 "cells": [
  {
   "cell_type": "code",
   "execution_count": 1,
   "metadata": {},
   "outputs": [],
   "source": [
    "import multinetx as mx\n",
    "import numpy as np\n",
    "import random\n",
    "from ling_model import create_MultilayerGraph"
   ]
  },
  {
   "cell_type": "markdown",
   "metadata": {},
   "source": [
    "思路：\n",
    "首先求得上层和下层网络中每个节点度的排名向量，\n",
    "其实，这个和pearson相关系数很像\n",
    "## 先取从大到小的度值排序，从1开始"
   ]
  },
  {
   "cell_type": "code",
   "execution_count": 2,
   "metadata": {},
   "outputs": [],
   "source": [
    "N = 8\n",
    "mg = create_MultilayerGraph(N=N, p_g1=0.3, p_g2=0.4, seed_g1=28, seed_g2=25, intra_layer_edges_weight=2, inter_layer_edges_weight=3)"
   ]
  },
  {
   "cell_type": "code",
   "execution_count": 5,
   "metadata": {},
   "outputs": [],
   "source": [
    "def get_degree_by_node(Graph, node, N, layer=0):\n",
    "    return Graph.degree(N*layer + node) - 1\n",
    "def get_degrees_by_layer(Graph, N, layer):\n",
    "    degrees = []\n",
    "    for i in range(N):\n",
    "        degrees.append(get_degree_by_node(Graph, i, N, layer))\n",
    "    return degrees"
   ]
  },
  {
   "cell_type": "code",
   "execution_count": 9,
   "metadata": {},
   "outputs": [
    {
     "data": {
      "text/plain": [
       "[4, 5, 4, 2, 5, 3, 3, 4]"
      ]
     },
     "execution_count": 9,
     "metadata": {},
     "output_type": "execute_result"
    }
   ],
   "source": [
    "get_degrees_by_layer(mg, N, layer=0)"
   ]
  },
  {
   "cell_type": "code",
   "execution_count": 35,
   "metadata": {},
   "outputs": [
    {
     "data": {
      "text/plain": [
       "{2, 3, 4, 5}"
      ]
     },
     "execution_count": 35,
     "metadata": {},
     "output_type": "execute_result"
    }
   ],
   "source": [
    "set_degree_layer0 = set(get_degrees_by_layer(mg, N, layer=0))\n",
    "set_degree_layer0"
   ]
  },
  {
   "cell_type": "code",
   "execution_count": 15,
   "metadata": {},
   "outputs": [
    {
     "data": {
      "text/plain": [
       "array([5, 4, 3, 2])"
      ]
     },
     "execution_count": 15,
     "metadata": {},
     "output_type": "execute_result"
    }
   ],
   "source": [
    "sort_set_degree_layer0 = np.sort(list(set_degree_layer0))[::-1]\n",
    "sort_set_degree_layer0"
   ]
  },
  {
   "cell_type": "code",
   "execution_count": 36,
   "metadata": {},
   "outputs": [],
   "source": [
    "def get_sort_set_degree_layer(mg, N, layer):\n",
    "    # 这里为了方便后面求度值排序，每个度都加上一\n",
    "    degree_layer = [i+1 for i in get_degrees_by_layer(mg, N, layer)]\n",
    "    set_degree_layer = set(degree_layer)\n",
    "    sort_set_degree_layer = np.sort(list(set_degree_layer))[::-1]\n",
    "    return sort_set_degree_layer"
   ]
  },
  {
   "cell_type": "code",
   "execution_count": 37,
   "metadata": {},
   "outputs": [
    {
     "data": {
      "text/plain": [
       "array([6, 5, 4, 3])"
      ]
     },
     "execution_count": 37,
     "metadata": {},
     "output_type": "execute_result"
    }
   ],
   "source": [
    "get_sort_set_degree_layer(mg, N, layer=0)"
   ]
  },
  {
   "cell_type": "markdown",
   "metadata": {},
   "source": [
    "### 试试这个方法"
   ]
  },
  {
   "cell_type": "code",
   "execution_count": 23,
   "metadata": {},
   "outputs": [
    {
     "data": {
      "text/plain": [
       "{0: 5,\n",
       " 1: 6,\n",
       " 2: 5,\n",
       " 3: 3,\n",
       " 4: 6,\n",
       " 5: 4,\n",
       " 6: 4,\n",
       " 7: 5,\n",
       " 8: 4,\n",
       " 9: 5,\n",
       " 10: 1,\n",
       " 11: 4,\n",
       " 12: 4,\n",
       " 13: 4,\n",
       " 14: 3,\n",
       " 15: 3}"
      ]
     },
     "execution_count": 23,
     "metadata": {},
     "output_type": "execute_result"
    }
   ],
   "source": [
    "dict(mg.degree)"
   ]
  },
  {
   "cell_type": "code",
   "execution_count": 27,
   "metadata": {},
   "outputs": [
    {
     "data": {
      "text/plain": [
       "array([6, 5, 4, 3])"
      ]
     },
     "execution_count": 27,
     "metadata": {},
     "output_type": "execute_result"
    }
   ],
   "source": [
    "sort_set_degree_layer0 = np.sort(list(set(list(dict(mg.degree).values())[0:N])))[::-1]\n",
    "sort_set_degree_layer0"
   ]
  },
  {
   "cell_type": "code",
   "execution_count": 28,
   "metadata": {},
   "outputs": [
    {
     "data": {
      "text/plain": [
       "array([5, 4, 3, 1])"
      ]
     },
     "execution_count": 28,
     "metadata": {},
     "output_type": "execute_result"
    }
   ],
   "source": [
    "sort_set_degree_layer1 = np.sort(list(set(list(dict(mg.degree).values())[N:])))[::-1]\n",
    "sort_set_degree_layer1 "
   ]
  },
  {
   "cell_type": "code",
   "execution_count": 30,
   "metadata": {},
   "outputs": [],
   "source": [
    "def get_sort_set_degree_layer_new(mg, N, layer):\n",
    "    set_degree_layer = set(list(dict(mg.degree).values())[layer*N:N*(layer+1)])\n",
    "    sort_set_degree_layer = np.sort(list(set_degree_layer))[::-1]\n",
    "    return sort_set_degree_layer"
   ]
  },
  {
   "cell_type": "code",
   "execution_count": 32,
   "metadata": {},
   "outputs": [
    {
     "data": {
      "text/plain": [
       "array([5, 4, 3, 1])"
      ]
     },
     "execution_count": 32,
     "metadata": {},
     "output_type": "execute_result"
    }
   ],
   "source": [
    "get_sort_set_degree_layer_new(mg, N, 1)"
   ]
  },
  {
   "cell_type": "markdown",
   "metadata": {},
   "source": [
    "> 还是第一种方法简单"
   ]
  },
  {
   "cell_type": "markdown",
   "metadata": {},
   "source": [
    "求分子的第一个参数"
   ]
  },
  {
   "cell_type": "code",
   "execution_count": 38,
   "metadata": {},
   "outputs": [],
   "source": [
    "sort_set_degree_layer0 = get_sort_set_degree_layer(mg, N, layer=0)\n",
    "sort_set_degree_layer1 = get_sort_set_degree_layer(mg, N, layer=1)"
   ]
  },
  {
   "cell_type": "code",
   "execution_count": 51,
   "metadata": {},
   "outputs": [],
   "source": [
    "def get_sort_degree_byNode(mg, N, layer):\n",
    "    sequ = []    \n",
    "    for i in range(N):\n",
    "        # 求该layer层节点i的度值\n",
    "        if layer == 0:\n",
    "            node_degree = mg.degree(i)\n",
    "        elif layer == 1:\n",
    "            node_degree = mg.degree(i+N)\n",
    "        # 求该节点i在度的排序\n",
    "        sort_set_degree_layer = get_sort_set_degree_layer(mg, N, layer)\n",
    "        for j in range(sort_set_degree_layer.size):\n",
    "            if node_degree == sort_set_degree_layer[j]:\n",
    "                sequ.append(j+1)\n",
    "                break\n",
    "    return sequ"
   ]
  },
  {
   "cell_type": "code",
   "execution_count": 65,
   "metadata": {},
   "outputs": [],
   "source": [
    "array1 = np.array(get_sort_degree_byNode(mg, N, layer=0))\n",
    "array2 = np.array(get_sort_degree_byNode(mg, N, layer=1))"
   ]
  },
  {
   "cell_type": "code",
   "execution_count": 66,
   "metadata": {},
   "outputs": [
    {
     "data": {
      "text/plain": [
       "array([2, 1, 2, 4, 1, 3, 3, 2])"
      ]
     },
     "execution_count": 66,
     "metadata": {},
     "output_type": "execute_result"
    }
   ],
   "source": [
    "array1"
   ]
  },
  {
   "cell_type": "code",
   "execution_count": 67,
   "metadata": {},
   "outputs": [
    {
     "data": {
      "text/plain": [
       "array([2, 1, 4, 2, 2, 2, 3, 3])"
      ]
     },
     "execution_count": 67,
     "metadata": {},
     "output_type": "execute_result"
    }
   ],
   "source": [
    "array2"
   ]
  },
  {
   "cell_type": "code",
   "execution_count": 68,
   "metadata": {},
   "outputs": [],
   "source": [
    "def get_avg_degree_product(array1, array2, N):\n",
    "    return np.sum(array1*array2)/N"
   ]
  },
  {
   "cell_type": "code",
   "execution_count": 69,
   "metadata": {},
   "outputs": [
    {
     "data": {
      "text/plain": [
       "5.5"
      ]
     },
     "execution_count": 69,
     "metadata": {},
     "output_type": "execute_result"
    }
   ],
   "source": [
    "get_avg_degree_product(array1, array2, N)"
   ]
  },
  {
   "cell_type": "markdown",
   "metadata": {},
   "source": [
    "分子的第二个参数"
   ]
  },
  {
   "cell_type": "code",
   "execution_count": 70,
   "metadata": {},
   "outputs": [],
   "source": [
    "def get_avg_degree(array, N):\n",
    "    return np.sum(array)/N"
   ]
  },
  {
   "cell_type": "code",
   "execution_count": 74,
   "metadata": {},
   "outputs": [
    {
     "data": {
      "text/plain": [
       "2.375"
      ]
     },
     "execution_count": 74,
     "metadata": {},
     "output_type": "execute_result"
    }
   ],
   "source": [
    "get_avg_degree(array2, N)"
   ]
  },
  {
   "cell_type": "markdown",
   "metadata": {},
   "source": [
    "分子的结果"
   ]
  },
  {
   "cell_type": "code",
   "execution_count": 72,
   "metadata": {},
   "outputs": [],
   "source": [
    "molecular = get_avg_degree_product(array1, array2, N) - get_avg_degree(array1, N) * get_avg_degree(array2, N)"
   ]
  },
  {
   "cell_type": "code",
   "execution_count": 73,
   "metadata": {},
   "outputs": [
    {
     "data": {
      "text/plain": [
       "0.15625"
      ]
     },
     "execution_count": 73,
     "metadata": {},
     "output_type": "execute_result"
    }
   ],
   "source": [
    "molecular"
   ]
  },
  {
   "cell_type": "markdown",
   "metadata": {},
   "source": [
    "求分母"
   ]
  },
  {
   "cell_type": "code",
   "execution_count": 75,
   "metadata": {},
   "outputs": [],
   "source": [
    "def get_deominator_one(array, N):\n",
    "    a1 = get_avg_degree_product(array, array, N)\n",
    "    a2 = np.square(get_avg_degree(array, N))\n",
    "    return np.sqrt(a1 - a2)"
   ]
  },
  {
   "cell_type": "code",
   "execution_count": 76,
   "metadata": {},
   "outputs": [
    {
     "data": {
      "text/plain": [
       "0.9682458365518543"
      ]
     },
     "execution_count": 76,
     "metadata": {},
     "output_type": "execute_result"
    }
   ],
   "source": [
    "get_deominator_one(array1, N)"
   ]
  },
  {
   "cell_type": "markdown",
   "metadata": {},
   "source": [
    "分母的结果"
   ]
  },
  {
   "cell_type": "code",
   "execution_count": 77,
   "metadata": {},
   "outputs": [],
   "source": [
    "denominator = get_deominator_one(array1, N) * get_deominator_one(array2, N)"
   ]
  },
  {
   "cell_type": "code",
   "execution_count": 78,
   "metadata": {},
   "outputs": [
    {
     "data": {
      "text/plain": [
       "0.8297448779594846"
      ]
     },
     "execution_count": 78,
     "metadata": {},
     "output_type": "execute_result"
    }
   ],
   "source": [
    "denominator"
   ]
  },
  {
   "cell_type": "markdown",
   "metadata": {},
   "source": [
    "式子的最后结果"
   ]
  },
  {
   "cell_type": "code",
   "execution_count": 79,
   "metadata": {},
   "outputs": [
    {
     "data": {
      "text/plain": [
       "0.18831089428867737"
      ]
     },
     "execution_count": 79,
     "metadata": {},
     "output_type": "execute_result"
    }
   ],
   "source": [
    "molecular / denominator"
   ]
  },
  {
   "cell_type": "markdown",
   "metadata": {},
   "source": [
    "最后计算Spearson的函数"
   ]
  },
  {
   "cell_type": "code",
   "execution_count": 81,
   "metadata": {},
   "outputs": [],
   "source": [
    "def get_degree_by_node(Graph, node, N, layer=0):\n",
    "    return Graph.degree(N*layer + node) - 1\n",
    "def get_degrees_by_layer(Graph, N, layer):\n",
    "    degrees = []\n",
    "    for i in range(N):\n",
    "        degrees.append(get_degree_by_node(Graph, i, N, layer))\n",
    "    return degrees\n",
    "def get_avg_degree_product(array1, array2, N):\n",
    "    return np.sum(array1*array2)/N\n",
    "def get_avg_degree(array, N):\n",
    "    return np.sum(array)/N\n",
    "def get_deominator_one(array, N):\n",
    "    a1 = get_avg_degree_product(array, array, N)\n",
    "    a2 = np.square(get_avg_degree(array, N))\n",
    "    return np.sqrt(a1 - a2)\n",
    "\n",
    "\n",
    "def get_sort_set_degree_layer(mg, N, layer):\n",
    "    # 这里为了方便后面求度值排序，每个度都加上一\n",
    "    degree_layer = [i+1 for i in get_degrees_by_layer(mg, N, layer)]\n",
    "    set_degree_layer = set(degree_layer)\n",
    "    sort_set_degree_layer = np.sort(list(set_degree_layer))[::-1]\n",
    "    return sort_set_degree_layer\n",
    "\n",
    "def get_sort_degree_byNode(mg, N, layer):\n",
    "    sequ = []    \n",
    "    for i in range(N):\n",
    "        # 求该layer层节点i的度值\n",
    "        if layer == 0:\n",
    "            node_degree = mg.degree(i)\n",
    "        elif layer == 1:\n",
    "            node_degree = mg.degree(i+N)\n",
    "        # 求该节点i在度的排序\n",
    "        sort_set_degree_layer = get_sort_set_degree_layer(mg, N, layer)\n",
    "        for j in range(sort_set_degree_layer.size):\n",
    "            if node_degree == sort_set_degree_layer[j]:\n",
    "                sequ.append(j+1)\n",
    "                break\n",
    "    return sequ\n",
    "\n",
    "def spearman_correlation_coefficient(Graph, N):\n",
    "    # 首先判断网络是否是符合要求的网络\n",
    "    assert mx.is_connected(Graph) == True, \\\n",
    "        \"The network must be reachable.提示：遇到这种问题，一般是生成的随机化网络不满足条件，解决办法是重新运行或者在创建双层网络时增加边出现的概率。\"\n",
    "    assert Graph.is_directed() == False, \\\n",
    "        \"It is only allowed for undirected complex network.\"\n",
    "    assert len(Graph) > 3, \\\n",
    "        \"Graph has less than three nodes.\"\n",
    "    # 首先得到两个网络中各节点的排名\n",
    "    array1 = np.array(get_sort_degree_byNode(mg, N, layer=0))\n",
    "    array2 = np.array(get_sort_degree_byNode(mg, N, layer=1))\n",
    "    # 求分子\n",
    "    molecular = get_avg_degree_product(array1, array2, N) - get_avg_degree(array1, N) * get_avg_degree(array2, N)\n",
    "    # 求分母\n",
    "    denominator = get_deominator_one(array1, N) * get_deominator_one(array2, N)\n",
    "    # 求Spearman相关系数\n",
    "    return molecular / denominator"
   ]
  },
  {
   "cell_type": "code",
   "execution_count": 82,
   "metadata": {},
   "outputs": [
    {
     "data": {
      "text/plain": [
       "0.18831089428867737"
      ]
     },
     "execution_count": 82,
     "metadata": {},
     "output_type": "execute_result"
    }
   ],
   "source": [
    "spearman_correlation_coefficient(mg, N)"
   ]
  },
  {
   "cell_type": "code",
   "execution_count": null,
   "metadata": {},
   "outputs": [],
   "source": []
  }
 ],
 "metadata": {
  "kernelspec": {
   "display_name": "Python [conda env:multinetx_env]",
   "language": "python",
   "name": "conda-env-multinetx_env-py"
  },
  "language_info": {
   "codemirror_mode": {
    "name": "ipython",
    "version": 3
   },
   "file_extension": ".py",
   "mimetype": "text/x-python",
   "name": "python",
   "nbconvert_exporter": "python",
   "pygments_lexer": "ipython3",
   "version": "3.8.5"
  }
 },
 "nbformat": 4,
 "nbformat_minor": 4
}
