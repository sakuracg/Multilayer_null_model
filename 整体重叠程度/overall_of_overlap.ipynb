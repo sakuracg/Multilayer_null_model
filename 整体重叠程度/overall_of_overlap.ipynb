{
 "cells": [
  {
   "cell_type": "code",
   "execution_count": 8,
   "metadata": {},
   "outputs": [],
   "source": [
    "import multinetx as mx\n",
    "import numpy as np\n",
    "import random\n",
    "from ling_model import create_MultilayerGraph, write_data_toDat"
   ]
  },
  {
   "cell_type": "markdown",
   "metadata": {},
   "source": [
    "思路：\n",
    "首先，得到每层的边，以上层为开始点，上层的每条边上相连节点的值加上每层的个数N，如果与下层边中有一样的，则认为重叠"
   ]
  },
  {
   "cell_type": "code",
   "execution_count": 2,
   "metadata": {},
   "outputs": [],
   "source": [
    "N = 8\n",
    "mg = create_MultilayerGraph(N=N, p_g1=0.3, p_g2=0.4, seed_g1=28, seed_g2=25, intra_layer_edges_weight=2, inter_layer_edges_weight=3)"
   ]
  },
  {
   "cell_type": "code",
   "execution_count": 12,
   "metadata": {},
   "outputs": [],
   "source": [
    "edges_layer0 = mg.get_intra_layer_edges_of_layer(layer=0)"
   ]
  },
  {
   "cell_type": "code",
   "execution_count": 13,
   "metadata": {},
   "outputs": [],
   "source": [
    "edges_layer1 = mg.get_intra_layer_edges_of_layer(layer=1)"
   ]
  },
  {
   "cell_type": "code",
   "execution_count": 29,
   "metadata": {},
   "outputs": [],
   "source": [
    "even_edge_count = 0\n",
    "for i in range(len(edges_layer0)):\n",
    "    temp_edge = edges_layer0[i]\n",
    "    for j in range(len(edges_layer1)):\n",
    "        if edges_layer1[j] == (temp_edge[0]+N, temp_edge[1]+N):\n",
    "            even_edge_count += 1\n",
    "            break"
   ]
  },
  {
   "cell_type": "code",
   "execution_count": 30,
   "metadata": {},
   "outputs": [
    {
     "data": {
      "text/plain": [
       "3"
      ]
     },
     "execution_count": 30,
     "metadata": {},
     "output_type": "execute_result"
    }
   ],
   "source": [
    "even_edge_count"
   ]
  },
  {
   "cell_type": "code",
   "execution_count": 33,
   "metadata": {},
   "outputs": [],
   "source": [
    "edges_layer0_count = len(edges_layer0)\n",
    "edges_layer1_count = len(edges_layer1)\n",
    "min_edges_layer = edges_layer0_count if edges_layer0_count < edges_layer1_count else edges_layer1_count"
   ]
  },
  {
   "cell_type": "code",
   "execution_count": 34,
   "metadata": {},
   "outputs": [],
   "source": [
    "degree_of_overlap = even_edge_count / min_edges_layer"
   ]
  },
  {
   "cell_type": "code",
   "execution_count": 35,
   "metadata": {},
   "outputs": [
    {
     "data": {
      "text/plain": [
       "0.3"
      ]
     },
     "execution_count": 35,
     "metadata": {},
     "output_type": "execute_result"
    }
   ],
   "source": [
    "degree_of_overlap"
   ]
  },
  {
   "cell_type": "markdown",
   "metadata": {},
   "source": [
    "# 整体重叠程度函数"
   ]
  },
  {
   "cell_type": "code",
   "execution_count": 36,
   "metadata": {},
   "outputs": [],
   "source": [
    "def overall_of_overlap_network(Graph, N):\n",
    "    even_edge_count = 0\n",
    "    edges_layer0 = mg.get_intra_layer_edges_of_layer(layer=0)\n",
    "    edges_layer1 = mg.get_intra_layer_edges_of_layer(layer=1)\n",
    "    \n",
    "    for i in range(len(edges_layer0)):\n",
    "        temp_edge = edges_layer0[i]\n",
    "        for j in range(len(edges_layer1)):\n",
    "            if (temp_edge[0]+N, temp_edge[1]+N) == edges_layer1[j]:\n",
    "                even_edge_count += 1\n",
    "                break\n",
    "    \n",
    "    edges_layer0_count = len(edges_layer0)\n",
    "    edges_layer1_count = len(edges_layer1)\n",
    "    min_edges_layer = edges_layer0_count if edges_layer0_count < edges_layer1_count else edges_layer1_count\n",
    "    \n",
    "    degree_of_overlap = even_edge_count / min_edges_layer\n",
    "    return degree_of_overlap"
   ]
  },
  {
   "cell_type": "code",
   "execution_count": 37,
   "metadata": {},
   "outputs": [
    {
     "data": {
      "text/plain": [
       "0.3"
      ]
     },
     "execution_count": 37,
     "metadata": {},
     "output_type": "execute_result"
    }
   ],
   "source": [
    "degree_of_overlap_network(mg, N)"
   ]
  },
  {
   "cell_type": "code",
   "execution_count": null,
   "metadata": {},
   "outputs": [],
   "source": []
  }
 ],
 "metadata": {
  "kernelspec": {
   "display_name": "Python [conda env:multinetx_env]",
   "language": "python",
   "name": "conda-env-multinetx_env-py"
  },
  "language_info": {
   "codemirror_mode": {
    "name": "ipython",
    "version": 3
   },
   "file_extension": ".py",
   "mimetype": "text/x-python",
   "name": "python",
   "nbconvert_exporter": "python",
   "pygments_lexer": "ipython3",
   "version": "3.8.5"
  }
 },
 "nbformat": 4,
 "nbformat_minor": 4
}
