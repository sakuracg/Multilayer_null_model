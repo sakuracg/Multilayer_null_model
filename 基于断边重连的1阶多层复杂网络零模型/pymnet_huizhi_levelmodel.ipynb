{
 "cells": [
  {
   "cell_type": "code",
   "execution_count": 1,
   "metadata": {},
   "outputs": [],
   "source": [
    "from pymnet import *\n",
    "import numpy as np\n",
    "import random\n",
    "import multinetx as mx\n",
    "from ling_model import create_MultilayerGraph, write_data_toDat, random_1_model, random_nodes_degrees"
   ]
  },
  {
   "cell_type": "code",
   "execution_count": 2,
   "metadata": {},
   "outputs": [],
   "source": [
    "N = 8\n",
    "mg = create_MultilayerGraph(N, p_g1=0.3, p_g2=0.3, intra_layer_edges_weight=2, inter_layer_edges_weight=3)"
   ]
  },
  {
   "cell_type": "code",
   "execution_count": 3,
   "metadata": {},
   "outputs": [],
   "source": [
    "# 查看原始随机网络的度分布cdf\n",
    "tem_keys, tem_degrees = zip(*mg.degree()) # zip的过程，zip(*)可把元组反解压\n",
    "keys, degrees = random_nodes_degrees(tem_keys, tem_degrees)\n",
    "cdf = mx.utils.cumulative_distribution(degrees)  # 从离散分布返回归一化的累积分布"
   ]
  },
  {
   "cell_type": "code",
   "execution_count": 4,
   "metadata": {},
   "outputs": [],
   "source": [
    "write_data_toDat('data2-1.dat', mg, N, weight=None)"
   ]
  },
  {
   "cell_type": "code",
   "execution_count": 6,
   "metadata": {},
   "outputs": [],
   "source": [
    "new_mg = random_1_model(mg, N, nswap=5, max_tries=200)"
   ]
  },
  {
   "cell_type": "code",
   "execution_count": 7,
   "metadata": {},
   "outputs": [
    {
     "data": {
      "text/plain": [
       "EdgeView([(0, 8), (0, 2), (0, 4), (1, 9), (1, 5), (2, 7), (2, 10), (2, 5), (3, 11), (3, 6), (3, 5), (4, 7), (4, 12), (4, 6), (5, 13), (6, 14), (6, 7), (7, 15), (8, 9), (8, 12), (9, 12), (10, 12), (10, 14), (10, 15), (11, 12), (11, 14), (12, 14), (14, 15)])"
      ]
     },
     "execution_count": 7,
     "metadata": {},
     "output_type": "execute_result"
    }
   ],
   "source": [
    "# 查看1阶零模型的度分布cdf\n",
    "tem_keys, tem_degrees = zip(*new_mg.degree()) # zip的过程，zip(*)可把元组反解压\n",
    "keys, degrees = random_nodes_degrees(tem_keys, tem_degrees)\n",
    "cdf = mx.utils.cumulative_distribution(degrees)  # 从离散分布返回归一化的累积分布"
   ]
  },
  {
   "cell_type": "code",
   "execution_count": 8,
   "metadata": {},
   "outputs": [
    {
     "data": {
      "text/plain": [
       "[(0, 5),\n",
       " (0, 7),\n",
       " (1, 6),\n",
       " (2, 4),\n",
       " (2, 6),\n",
       " (2, 7),\n",
       " (3, 4),\n",
       " (3, 5),\n",
       " (4, 7),\n",
       " (5, 6)]"
      ]
     },
     "execution_count": 8,
     "metadata": {},
     "output_type": "execute_result"
    }
   ],
   "source": [
    "write_data_toDat('data2-2.dat', mg, N, weight=None)"
   ]
  },
  {
   "cell_type": "code",
   "execution_count": 9,
   "metadata": {},
   "outputs": [],
   "source": [
    "nt1 = read_ucinet('data2-1.dat')\n",
    "net=transforms.threshold(nt1,4)\n",
    "fig = draw(nt1, \n",
    "            show=False,\n",
    "            layout=\"spring\",\n",
    "            layerColorRule={},\n",
    "            defaultLayerColor=\"#EFF1F1\",\n",
    "            edgeColorRule={}, \n",
    "            defaultEdgeColor='#808080',\n",
    "            layerLabelDict={0:'1', 1:'2'}, \n",
    "            layerPadding=0.1)\n",
    "fig.savefig('2-1.pdf')"
   ]
  },
  {
   "cell_type": "code",
   "execution_count": 10,
   "metadata": {},
   "outputs": [],
   "source": [
    "nt2 = read_ucinet('data2-2.dat')\n",
    "net=transforms.threshold(nt2,4)\n",
    "fig = draw(nt2, \n",
    "            show=False,\n",
    "            layout=\"spring\",\n",
    "            layerColorRule={},\n",
    "            defaultLayerColor=\"#EFF1F1\",\n",
    "            edgeColorRule={}, \n",
    "            defaultEdgeColor='#808080',\n",
    "            layerLabelDict={0:'1', 1:'2'}, \n",
    "            layerPadding=0.1)\n",
    "fig.savefig('2-2.pdf')"
   ]
  },
  {
   "cell_type": "code",
   "execution_count": null,
   "metadata": {},
   "outputs": [],
   "source": []
  }
 ],
 "metadata": {
  "kernelspec": {
   "display_name": "Python 3",
   "language": "python",
   "name": "python3"
  },
  "language_info": {
   "codemirror_mode": {
    "name": "ipython",
    "version": 3
   },
   "file_extension": ".py",
   "mimetype": "text/x-python",
   "name": "python",
   "nbconvert_exporter": "python",
   "pygments_lexer": "ipython3",
   "version": "3.7.0"
  }
 },
 "nbformat": 4,
 "nbformat_minor": 2
}
