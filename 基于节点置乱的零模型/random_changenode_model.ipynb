{
 "cells": [
  {
   "cell_type": "code",
   "execution_count": 1,
   "metadata": {},
   "outputs": [],
   "source": [
    "import multinetx as mx\n",
    "import numpy as np\n",
    "import random\n",
    "from ling_model import create_MultilayerGraph, get_edge_0"
   ]
  },
  {
   "cell_type": "code",
   "execution_count": 2,
   "metadata": {},
   "outputs": [],
   "source": [
    "N = 8"
   ]
  },
  {
   "cell_type": "code",
   "execution_count": 3,
   "metadata": {},
   "outputs": [
    {
     "data": {
      "text/plain": [
       "EdgeView([(0, 4), (0, 6), (0, 8), (1, 2), (1, 6), (1, 9), (2, 5), (2, 10), (3, 11), (4, 5), (4, 7), (4, 12), (5, 6), (5, 7), (5, 13), (6, 14), (7, 15), (9, 11), (9, 14), (9, 15), (10, 14), (11, 13), (12, 13), (12, 14), (13, 14)])"
      ]
     },
     "execution_count": 3,
     "metadata": {},
     "output_type": "execute_result"
    }
   ],
   "source": [
    "mg = create_MultilayerGraph(N, p_g1=0.3, p_g2=0.3, seed_g1=256, seed_g2=178, intra_layer_edges_weight=2, inter_layer_edges_weight=3)\n",
    "mg.get_intra_layer_edges()\n",
    "# list(mg.nodes)[:N]"
   ]
  },
  {
   "cell_type": "code",
   "execution_count": 4,
   "metadata": {},
   "outputs": [
    {
     "data": {
      "text/plain": [
       "[(0, 4), (0, 6), (1, 2), (1, 6), (2, 5), (4, 5), (4, 7), (5, 6), (5, 7)]"
      ]
     },
     "execution_count": 4,
     "metadata": {},
     "output_type": "execute_result"
    }
   ],
   "source": [
    "mg.get_intra_layer_edges_of_layer(layer=0)"
   ]
  },
  {
   "cell_type": "code",
   "execution_count": 5,
   "metadata": {},
   "outputs": [],
   "source": [
    "def swap_one_node(Graph, node_1, node_2, analy_layer=0):\n",
    "#     print(Graph.get_intra_layer_edges())\n",
    "    edges = get_edge_0(Graph=Graph, analy_layer=analy_layer)\n",
    "#     print(edges)\n",
    "    for item in edges:\n",
    "        if item.count(node_1) == 0 and item.count(node_2) == 0:\n",
    "            continue\n",
    "        elif item.count(node_1) == 1 and item.count(node_2) == 1:\n",
    "            continue\n",
    "        elif item.count(node_1) == 1 and item.count(node_2) == 0:\n",
    "            v,w = item\n",
    "            Graph.remove_edge(v,w)\n",
    "            tem_n = w if v == node_1 else v\n",
    "            Graph.add_edge(node_2, tem_n)\n",
    "        elif item.count(node_1) == 0 and item.count(node_2) == 1:\n",
    "            v,w = item\n",
    "            Graph.remove_edge(v,w)\n",
    "            tem_n = w if v == node_2 else v\n",
    "            Graph.add_edge(node_1, tem_n)\n",
    "#     print(Graph.get_intra_layer_edges())\n",
    "    \n",
    "def random_node_model(Graph, N, nswap=1):\n",
    "    assert mx.is_connected(Graph) == True, \\\n",
    "        \"The network must be reachable.提示：遇到这种问题，一般是生成的随机化网络不满足条件，解决办法是重新运行或者在创建双层网络时增加边出现的概率。\"\n",
    "    assert Graph.is_directed() == False, \\\n",
    "        \"It is only allowed for undirected complex network.\"\n",
    "    assert len(Graph) > 3, \\\n",
    "        \"Graph has less than three nodes.\"\n",
    "    \n",
    "    n = 0 # 已尝试交换节点次数\n",
    "    swapcount = 0  # 已尝试交换节点并成功的次数\n",
    "    \n",
    "    while swapcount < nswap:               \n",
    "        # 随机取两个节点\n",
    "        nodes = list(Graph.nodes)[:N]\n",
    "        x_node = random.choice(nodes)\n",
    "        y_node = random.choice(nodes)\n",
    "        print(x_node, y_node)\n",
    "        if x_node == y_node:\n",
    "            continue\n",
    "        # 两个节点进行交换\n",
    "        swap_one_node(Graph, x_node, y_node)\n",
    "        \n",
    "        swapcount += 1        \n",
    "        \n",
    "    return Graph"
   ]
  },
  {
   "cell_type": "code",
   "execution_count": 6,
   "metadata": {
    "scrolled": true
   },
   "outputs": [
    {
     "name": "stdout",
     "output_type": "stream",
     "text": [
      "0 2\n"
     ]
    }
   ],
   "source": [
    "new_mg = random_node_model(Graph=mg, N=N, nswap=1)\n",
    "# get_edge_0(Graph=mg, analy_layer=0)"
   ]
  },
  {
   "cell_type": "code",
   "execution_count": 7,
   "metadata": {},
   "outputs": [
    {
     "data": {
      "text/plain": [
       "EdgeView([(0, 8), (0, 1), (0, 5), (1, 6), (1, 9), (2, 10), (2, 4), (2, 6), (3, 11), (4, 5), (4, 7), (4, 12), (5, 6), (5, 7), (5, 13), (6, 14), (7, 15), (9, 11), (9, 14), (9, 15), (10, 14), (11, 13), (12, 13), (12, 14), (13, 14)])"
      ]
     },
     "execution_count": 7,
     "metadata": {},
     "output_type": "execute_result"
    }
   ],
   "source": [
    "edges = new_mg.get_intra_layer_edges()\n",
    "# 比如取到 0 4 两个节点 来进行交换\n",
    "edges"
   ]
  },
  {
   "cell_type": "code",
   "execution_count": 8,
   "metadata": {},
   "outputs": [
    {
     "data": {
      "text/plain": [
       "[(0, 4), (0, 6), (1, 2), (1, 6), (2, 5), (4, 5), (4, 7), (5, 6), (5, 7)]"
      ]
     },
     "execution_count": 8,
     "metadata": {},
     "output_type": "execute_result"
    }
   ],
   "source": [
    "new_mg.get_intra_layer_edges_of_layer(layer=0)"
   ]
  },
  {
   "cell_type": "code",
   "execution_count": null,
   "metadata": {},
   "outputs": [],
   "source": []
  }
 ],
 "metadata": {
  "kernelspec": {
   "display_name": "Python [conda env:multinetx_env]",
   "language": "python",
   "name": "conda-env-multinetx_env-py"
  },
  "language_info": {
   "codemirror_mode": {
    "name": "ipython",
    "version": 3
   },
   "file_extension": ".py",
   "mimetype": "text/x-python",
   "name": "python",
   "nbconvert_exporter": "python",
   "pygments_lexer": "ipython3",
   "version": "3.8.5"
  }
 },
 "nbformat": 4,
 "nbformat_minor": 4
}
