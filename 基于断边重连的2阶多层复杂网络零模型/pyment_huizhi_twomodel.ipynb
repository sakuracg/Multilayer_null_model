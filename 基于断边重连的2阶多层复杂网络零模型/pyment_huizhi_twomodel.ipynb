{
 "cells": [
  {
   "cell_type": "code",
   "execution_count": 1,
   "metadata": {},
   "outputs": [],
   "source": [
    "from pymnet import *\n",
    "import numpy as np\n",
    "import random\n",
    "import multinetx as mx\n",
    "from ling_model import create_MultilayerGraph, write_data_toDat, random_2_model"
   ]
  },
  {
   "cell_type": "code",
   "execution_count": 2,
   "metadata": {},
   "outputs": [],
   "source": [
    "N = 8"
   ]
  },
  {
   "cell_type": "code",
   "execution_count": 3,
   "metadata": {},
   "outputs": [],
   "source": [
    "mg = create_MultilayerGraph(N, p_g1=0.3, p_g2=0.3, seed_g1=218, seed_g2=256, intra_layer_edges_weight=2, inter_layer_edges_weight=3)"
   ]
  },
  {
   "cell_type": "code",
   "execution_count": 4,
   "metadata": {},
   "outputs": [],
   "source": [
    "write_data_toDat('data3-1.dat', mg, N, weight=None)"
   ]
  },
  {
   "cell_type": "code",
   "execution_count": 5,
   "metadata": {},
   "outputs": [],
   "source": [
    "new_random_mg = random_2_model(mg, N, nswap=5, max_tries=200)"
   ]
  },
  {
   "cell_type": "code",
   "execution_count": 7,
   "metadata": {},
   "outputs": [],
   "source": [
    "write_data_toDat('data3-2.dat', new_random_mg, N, weight=None)"
   ]
  },
  {
   "cell_type": "code",
   "execution_count": 10,
   "metadata": {},
   "outputs": [],
   "source": [
    "nt1 = read_ucinet('data3-1.dat')\n",
    "fig = draw(nt1, \n",
    "            show=False,\n",
    "            layout=\"spring\",\n",
    "            layerColorRule={},\n",
    "            defaultLayerColor=\"#EFF1F1\",\n",
    "            edgeColorRule={}, \n",
    "            defaultEdgeColor='#808080',\n",
    "            layerLabelDict={0:'1', 1:'2'}, \n",
    "            layerPadding=0.1)\n",
    "fig.savefig('3-1.pdf')"
   ]
  },
  {
   "cell_type": "code",
   "execution_count": 11,
   "metadata": {},
   "outputs": [],
   "source": [
    "nt2 = read_ucinet('data3-2.dat')\n",
    "fig = draw(nt2, \n",
    "            show=False,\n",
    "            layout=\"spring\",\n",
    "            layerColorRule={},\n",
    "            defaultLayerColor=\"#EFF1F1\",\n",
    "            edgeColorRule={}, \n",
    "            defaultEdgeColor='#808080',\n",
    "            layerLabelDict={0:'1', 1:'2'}, \n",
    "            layerPadding=0.1)\n",
    "fig.savefig('3-2.pdf')"
   ]
  },
  {
   "cell_type": "code",
   "execution_count": null,
   "metadata": {},
   "outputs": [],
   "source": []
  }
 ],
 "metadata": {
  "kernelspec": {
   "display_name": "Python 3",
   "language": "python",
   "name": "python3"
  },
  "language_info": {
   "codemirror_mode": {
    "name": "ipython",
    "version": 3
   },
   "file_extension": ".py",
   "mimetype": "text/x-python",
   "name": "python",
   "nbconvert_exporter": "python",
   "pygments_lexer": "ipython3",
   "version": "3.7.0"
  }
 },
 "nbformat": 4,
 "nbformat_minor": 2
}
